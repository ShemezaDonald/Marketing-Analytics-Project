{
 "cells": [
  {
   "cell_type": "code",
   "execution_count": 45,
   "id": "d295ab29",
   "metadata": {},
   "outputs": [],
   "source": [
    "import pandas as pd\n",
    "import numpy as np\n",
    "from scipy.stats import ttest_ind\n",
    "from scipy.stats import chi2_contingency\n",
    "import statsmodels.formula.api as smf\n",
    "import statsmodels.api as sm"
   ]
  },
  {
   "cell_type": "code",
   "execution_count": 31,
   "id": "404c4750",
   "metadata": {},
   "outputs": [],
   "source": [
    "trans_data = pd.read_csv('transaction_data.csv')\n",
    "cust_data = pd.read_csv('cust_data.csv')\n",
    "#trans_data"
   ]
  },
  {
   "cell_type": "markdown",
   "id": "60423d72",
   "metadata": {},
   "source": [
    "# Preprocessing"
   ]
  },
  {
   "cell_type": "code",
   "execution_count": 81,
   "id": "852d4f1e",
   "metadata": {},
   "outputs": [
    {
     "name": "stdout",
     "output_type": "stream",
     "text": [
      "       Customer ID State Treatment Group  Pre-Treatment Profit  \\\n",
      "0                0    VA         No Mail                  0.00   \n",
      "1                1    VA            Mail                 27.94   \n",
      "2                2    VA            Mail                530.79   \n",
      "3                3    OH            Mail                  0.00   \n",
      "4                4    OH            Mail                 54.72   \n",
      "...            ...   ...             ...                   ...   \n",
      "11995        11995    GA         No Mail                  0.00   \n",
      "11996        11996    GA         No Mail                146.98   \n",
      "11997        11997    OH            Mail                  0.00   \n",
      "11998        11998    OH            Mail                  6.92   \n",
      "11999        11999    GA         No Mail                165.04   \n",
      "\n",
      "       Post-Treatment Profit  \n",
      "0                       0.00  \n",
      "1                       0.00  \n",
      "2                     126.26  \n",
      "3                       0.00  \n",
      "4                      99.91  \n",
      "...                      ...  \n",
      "11995                 115.05  \n",
      "11996                  68.42  \n",
      "11997                   0.00  \n",
      "11998                  35.21  \n",
      "11999                   0.00  \n",
      "\n",
      "[12000 rows x 5 columns]\n"
     ]
    }
   ],
   "source": [
    "# Convert 'Order Date' to datetime format\n",
    "trans_data['Order Date'] = pd.to_datetime(trans_data['Order Date'])\n",
    "\n",
    "# Define the treatment date\n",
    "treatment_date = pd.Timestamp('2019-03-02')\n",
    "\n",
    "pre_treatment_period = (trans_data['Order Date'] >= treatment_date - pd.Timedelta(days=60)) & \\\n",
    "                       (trans_data['Order Date'] < treatment_date)\n",
    "post_treatment_period = (trans_data['Order Date'] >= treatment_date) & \\\n",
    "                        (trans_data['Order Date'] < treatment_date + pd.Timedelta(days=60))\n",
    "\n",
    "\n",
    "# Aggregate profits by customer ID for pre and post-treatment periods\n",
    "pre_treatment_profit = trans_data[pre_treatment_period].groupby('Customer ID')['Profit'].sum().reset_index(name='Pre-Treatment Profit')\n",
    "post_treatment_profit = trans_data[post_treatment_period].groupby('Customer ID')['Profit'].sum().reset_index(name='Post-Treatment Profit')\n",
    "\n",
    "\n",
    "# Merge the aggregated profits with the customer data\n",
    "merged_data = pd.merge(cust_data, pre_treatment_profit, on='Customer ID', how='left')\n",
    "merged_data = pd.merge(merged_data, post_treatment_profit, on='Customer ID', how='left')\n",
    "\n",
    "# Fill NaN values with 0 for customers with no transactions in a given period\n",
    "merged_data.fillna(0, inplace=True)\n",
    "\n",
    "# Display the first few rows of the merged data\n",
    "print(merged_data)"
   ]
  },
  {
   "cell_type": "code",
   "execution_count": 66,
   "id": "6500164e",
   "metadata": {},
   "outputs": [
    {
     "name": "stdout",
     "output_type": "stream",
     "text": [
      "Pre-Treatment Profit: Mean = 77.33, Standard Deviation = 229.01\n",
      "Post-Treatment Profit: Mean = 119.35, Standard Deviation = 337.12\n"
     ]
    }
   ],
   "source": [
    "pre_treatment_mean = merged_data['Pre-Treatment Profit'].mean()\n",
    "pre_treatment_std = merged_data['Pre-Treatment Profit'].std()\n",
    "\n",
    "post_treatment_mean = merged_data['Post-Treatment Profit'].mean()\n",
    "post_treatment_std = merged_data['Post-Treatment Profit'].std()\n",
    "\n",
    "print(f\"Pre-Treatment Profit: Mean = {pre_treatment_mean:.2f}, Standard Deviation = {pre_treatment_std:.2f}\")\n",
    "print(f\"Post-Treatment Profit: Mean = {post_treatment_mean:.2f}, Standard Deviation = {post_treatment_std:.2f}\")\n"
   ]
  },
  {
   "cell_type": "markdown",
   "id": "cf6570f3",
   "metadata": {},
   "source": [
    "# Before and After"
   ]
  },
  {
   "cell_type": "markdown",
   "id": "5bb51757",
   "metadata": {},
   "source": [
    "Treatment effect"
   ]
  },
  {
   "cell_type": "code",
   "execution_count": 26,
   "id": "42cde1cd",
   "metadata": {},
   "outputs": [
    {
     "name": "stdout",
     "output_type": "stream",
     "text": [
      "Estimated Treatment Effect is: 53.17291166666678\n"
     ]
    }
   ],
   "source": [
    "# Filter for customers in the treatment group\n",
    "treatment_group = merged_data[merged_data['Treatment Group'] == 'Mail']\n",
    "\n",
    "# Calculate the mean profit before and after the treatment for the treatment group\n",
    "mean_pre_treatment_profit = treatment_group['Pre-Treatment Profit'].mean()\n",
    "mean_post_treatment_profit = treatment_group['Post-Treatment Profit'].mean()\n",
    "\n",
    "# Estimate the effect of the campaign for the treatment group\n",
    "treatment_effect = mean_post_treatment_profit - mean_pre_treatment_profit\n",
    "print('Estimated Treatment Effect is:', treatment_effect)\n"
   ]
  },
  {
   "cell_type": "markdown",
   "id": "b73f5e19",
   "metadata": {},
   "source": [
    "Expected gain of marketing campaign"
   ]
  },
  {
   "cell_type": "code",
   "execution_count": 69,
   "id": "ce4259fb",
   "metadata": {},
   "outputs": [
    {
     "name": "stdout",
     "output_type": "stream",
     "text": [
      "Expected Gain is: $9951873.50\n"
     ]
    }
   ],
   "source": [
    "estimated_treatment_effect = 53.17291166666678\n",
    "remaining_population = 300000\n",
    "cost_per_catalog = 20\n",
    "\n",
    "total_incremental_profit = estimated_treatment_effect * remaining_population\n",
    "\n",
    "total_cost = cost_per_catalog * remaining_population\n",
    "\n",
    "expected_gain = total_incremental_profit - total_cost\n",
    "\n",
    "print(f\"Expected Gain is: ${expected_gain:.2f}\")\n"
   ]
  },
  {
   "cell_type": "markdown",
   "id": "a533101b",
   "metadata": {},
   "source": [
    "# Randomization check"
   ]
  },
  {
   "cell_type": "code",
   "execution_count": 32,
   "id": "f55b7d5b",
   "metadata": {},
   "outputs": [
    {
     "name": "stdout",
     "output_type": "stream",
     "text": [
      "The T-test p-value for pre-treatment profits: 0.2748271847214662\n",
      "Chi-square test p-value for state distribution: 0.8271959154190364\n"
     ]
    }
   ],
   "source": [
    "\n",
    "# Perform a t-test on pre-treatment profits between the treatment and control groups\n",
    "control_group = merged_data[merged_data['Treatment Group'] == 'No Mail']\n",
    "t_stat, p_value = ttest_ind(treatment_group['Pre-Treatment Profit'], control_group['Pre-Treatment Profit'])\n",
    "\n",
    "print('The T-test p-value for pre-treatment profits:', p_value)\n",
    "\n",
    "# Chi-square test for the 'State' distribution between the two groups\n",
    "contingency_table = pd.crosstab(merged_data['State'], merged_data['Treatment Group'])\n",
    "chi2, p_value, dof, expected = chi2_contingency(contingency_table)\n",
    "\n",
    "print('Chi-square test p-value for state distribution:', p_value)\n"
   ]
  },
  {
   "cell_type": "markdown",
   "id": "837c7120",
   "metadata": {},
   "source": [
    "# Average Treatment Effect (ATE)"
   ]
  },
  {
   "cell_type": "code",
   "execution_count": 74,
   "id": "ef3753b0",
   "metadata": {},
   "outputs": [
    {
     "name": "stdout",
     "output_type": "stream",
     "text": [
      "Average Treatment Effect ATE Estimate: 17.74328499999995\n",
      "Standard Error: 6.153044015728501\n",
      "P-value: 0.003937822111943358\n"
     ]
    }
   ],
   "source": [
    "# Encode the 'Treatment Group' as a binary variable\n",
    "merged_data['Treatment'] = merged_data['Treatment Group'].map({'Mail': 1, 'No Mail': 0})\n",
    "\n",
    "# Prepare the independent variables (add a constant to the model for the intercept)\n",
    "X = sm.add_constant(merged_data['Treatment'])  \n",
    "Y = merged_data['Post-Treatment Profit']\n",
    "\n",
    "# Fit the OLS model\n",
    "model = sm.OLS(Y, X).fit()\n",
    "\n",
    "# Extract the ATE (treatment effect), its standard error, and p-value\n",
    "ate_estimate = model.params['Treatment']\n",
    "ate_std_error = model.bse['Treatment']\n",
    "ate_p_value = model.pvalues['Treatment']\n",
    "\n",
    "print(f\"Average Treatment Effect ATE Estimate: {ate_estimate}\")\n",
    "print(f\"Standard Error: {ate_std_error}\")\n",
    "print(f\"P-value: {ate_p_value}\")\n",
    "\n"
   ]
  },
  {
   "cell_type": "code",
   "execution_count": 79,
   "id": "a493daf2",
   "metadata": {},
   "outputs": [
    {
     "name": "stdout",
     "output_type": "stream",
     "text": [
      "The expected gain of the campaign is: $-677014.5000000149\n"
     ]
    }
   ],
   "source": [
    "ate = 17.74328499999995\n",
    "cost_per_catalog = 20\n",
    "remaining_population = 300000\n",
    "\n",
    "total_additional_profit = ate * remaining_population\n",
    "\n",
    "total_cost = cost_per_catalog * remaining_population\n",
    "\n",
    "expected_gain = total_additional_profit - total_cost\n",
    "print(f\"The expected gain of the campaign is: ${expected_gain}\")"
   ]
  },
  {
   "cell_type": "markdown",
   "id": "e80d86a6",
   "metadata": {},
   "source": [
    "# Difference-in-Difference (Diff-in-Diff) Estimator"
   ]
  },
  {
   "cell_type": "code",
   "execution_count": 51,
   "id": "a4b24f62",
   "metadata": {},
   "outputs": [
    {
     "name": "stdout",
     "output_type": "stream",
     "text": [
      "                            OLS Regression Results                            \n",
      "==============================================================================\n",
      "Dep. Variable:          Profit_Change   R-squared:                       0.002\n",
      "Model:                            OLS   Adj. R-squared:                  0.002\n",
      "Method:                 Least Squares   F-statistic:                     27.81\n",
      "Date:                Sun, 11 Feb 2024   Prob (F-statistic):           1.36e-07\n",
      "Time:                        19:52:59   Log-Likelihood:                -82372.\n",
      "No. Observations:               12000   AIC:                         1.647e+05\n",
      "Df Residuals:                   11998   BIC:                         1.648e+05\n",
      "Df Model:                           1                                         \n",
      "Covariance Type:            nonrobust                                         \n",
      "==============================================================================\n",
      "                 coef    std err          t      P>|t|      [0.025      0.975]\n",
      "------------------------------------------------------------------------------\n",
      "Intercept     30.8637      2.991     10.318      0.000      25.000      36.727\n",
      "Treatment     22.3092      4.230      5.274      0.000      14.017      30.601\n",
      "==============================================================================\n",
      "Omnibus:                    14172.934   Durbin-Watson:                   1.968\n",
      "Prob(Omnibus):                  0.000   Jarque-Bera (JB):          7196703.796\n",
      "Skew:                           5.686   Prob(JB):                         0.00\n",
      "Kurtosis:                     122.432   Cond. No.                         2.62\n",
      "==============================================================================\n",
      "\n",
      "Notes:\n",
      "[1] Standard Errors assume that the covariance matrix of the errors is correctly specified.\n"
     ]
    }
   ],
   "source": [
    "import statsmodels.formula.api as smf\n",
    "\n",
    "# Ensure the DataFrame is correctly defined for this step\n",
    "diff_in_diff_data['Profit_Change'] = diff_in_diff_data['Post-Treatment Profit'] - diff_in_diff_data['Pre-Treatment Profit']\n",
    "diff_in_diff_data['Treatment'] = diff_in_diff_data['Treatment Group'].apply(lambda x: 1 if x == 'Mail' else 0)\n",
    "\n",
    "# Perform the Diff-in-Diff analysis using OLS regression\n",
    "diff_in_diff_model = smf.ols('Profit_Change ~ Treatment', data=diff_in_diff_data).fit()\n",
    "\n",
    "# Display the regression results\n",
    "print(diff_in_diff_model.summary())\n",
    "\n"
   ]
  },
  {
   "cell_type": "code",
   "execution_count": 80,
   "id": "9ff10fea",
   "metadata": {},
   "outputs": [
    {
     "name": "stdout",
     "output_type": "stream",
     "text": [
      "The expected gain of the campaign is: $692760.0\n"
     ]
    }
   ],
   "source": [
    "treatment_effect = 22.3092\n",
    "remaining_population = 300000\n",
    "cost_per_catalog = 20\n",
    "\n",
    "total_additional_profit = treatment_effect * remaining_population\n",
    "total_cost = cost_per_catalog * remaining_population\n",
    "expected_gain = total_additional_profit - total_cost\n",
    "print(f\"The expected gain of the campaign is: ${expected_gain}\")"
   ]
  },
  {
   "cell_type": "markdown",
   "id": "ed3883b4",
   "metadata": {},
   "source": [
    "# Basic Targeting"
   ]
  },
  {
   "cell_type": "markdown",
   "id": "a897f14d",
   "metadata": {},
   "source": [
    "a. Compute ATE"
   ]
  },
  {
   "cell_type": "code",
   "execution_count": 52,
   "id": "37acf5cb",
   "metadata": {},
   "outputs": [
    {
     "name": "stdout",
     "output_type": "stream",
     "text": [
      "ATE by State: {'VA': 0.9595255780464811, 'OH': 18.169995979882685, 'GA': 31.161070753286793}\n"
     ]
    }
   ],
   "source": [
    "states = merged_data['State'].unique()\n",
    "ate_by_state = {}\n",
    "\n",
    "for state in states:\n",
    "    state_data = merged_data[merged_data['State'] == state]\n",
    "    treatment_group_state = state_data[state_data['Treatment Group'] == 'Mail']\n",
    "    control_group_state = state_data[state_data['Treatment Group'] == 'No Mail']\n",
    "    \n",
    "    ate_state = treatment_group_state['Post-Treatment Profit'].mean() - control_group_state['Post-Treatment Profit'].mean()\n",
    "    ate_by_state[state] = ate_state\n",
    "\n",
    "print('ATE by State:', ate_by_state)\n"
   ]
  },
  {
   "cell_type": "markdown",
   "id": "2f349805",
   "metadata": {},
   "source": [
    "c. Compute Expected gain of the marketing campaign"
   ]
  },
  {
   "cell_type": "code",
   "execution_count": 64,
   "id": "400ebb29",
   "metadata": {},
   "outputs": [
    {
     "name": "stdout",
     "output_type": "stream",
     "text": [
      "Expected Gain is: $1206790.78\n"
     ]
    }
   ],
   "source": [
    "cust_data1 = pd.read_csv('cust_data.csv')\n",
    "\n",
    "# Calculate the frequency of each state in the sample\n",
    "state_distribution = cust_data1['State'].value_counts(normalize=True)\n",
    "\n",
    "remaining_population = 300000  # Remaining customer base outside of the sample\n",
    "\n",
    "estimated_state_distribution = state_distribution * remaining_population\n",
    "\n",
    "# ATEs by state from your previous results\n",
    "ate_by_state = {'VA': 0.9595255780464811, 'OH': 18.169995979882685, 'GA': 31.161070753286793}\n",
    "\n",
    "cost_per_catalog = 20\n",
    "\n",
    "# Calculate the expected gain for each state where the campaign is profitable\n",
    "expected_gain = 0\n",
    "for state, proportion in estimated_state_distribution.items():\n",
    "    ate = ate_by_state.get(state, 0)  # Get ATE for the state, defaulting to 0 if not found\n",
    "    if ate > cost_per_catalog:  # Only consider states where ATE exceeds the cost\n",
    "        gain_per_customer = ate - cost_per_catalog\n",
    "        expected_gain += gain_per_customer * proportion\n",
    "\n",
    "print(f\"Expected Gain is: ${expected_gain:.2f}\")\n"
   ]
  },
  {
   "cell_type": "code",
   "execution_count": null,
   "id": "ad0473ba",
   "metadata": {},
   "outputs": [],
   "source": []
  }
 ],
 "metadata": {
  "kernelspec": {
   "display_name": "Python 3",
   "language": "python",
   "name": "python3"
  },
  "language_info": {
   "codemirror_mode": {
    "name": "ipython",
    "version": 3
   },
   "file_extension": ".py",
   "mimetype": "text/x-python",
   "name": "python",
   "nbconvert_exporter": "python",
   "pygments_lexer": "ipython3",
   "version": "3.8.8"
  }
 },
 "nbformat": 4,
 "nbformat_minor": 5
}
